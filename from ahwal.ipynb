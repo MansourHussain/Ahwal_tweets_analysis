{
 "cells": [
  {
   "cell_type": "code",
   "execution_count": 8,
   "id": "13530ed2",
   "metadata": {},
   "outputs": [],
   "source": [
    "import pandas as pd\n",
    "\n",
    "from_ahwal = pd.read_csv('from_Ahwal.csv', index_col=0)"
   ]
  },
  {
   "cell_type": "code",
   "execution_count": 9,
   "id": "c2239b44",
   "metadata": {},
   "outputs": [
    {
     "data": {
      "text/html": [
       "<div>\n",
       "<style scoped>\n",
       "    .dataframe tbody tr th:only-of-type {\n",
       "        vertical-align: middle;\n",
       "    }\n",
       "\n",
       "    .dataframe tbody tr th {\n",
       "        vertical-align: top;\n",
       "    }\n",
       "\n",
       "    .dataframe thead th {\n",
       "        text-align: right;\n",
       "    }\n",
       "</style>\n",
       "<table border=\"1\" class=\"dataframe\">\n",
       "  <thead>\n",
       "    <tr style=\"text-align: right;\">\n",
       "      <th></th>\n",
       "      <th>Tweet Id</th>\n",
       "      <th>Text</th>\n",
       "      <th>Username</th>\n",
       "      <th>time</th>\n",
       "      <th>date</th>\n",
       "    </tr>\n",
       "  </thead>\n",
       "  <tbody>\n",
       "    <tr>\n",
       "      <th>0</th>\n",
       "      <td>1442580908863860740</td>\n",
       "      <td>@Ibrrahim_9 نأمل منك تغيير المتصفح او جهاز الك...</td>\n",
       "      <td>AhwalCare</td>\n",
       "      <td>20</td>\n",
       "      <td>2021-09-27</td>\n",
       "    </tr>\n",
       "    <tr>\n",
       "      <th>1</th>\n",
       "      <td>1442580817927045122</td>\n",
       "      <td>@SalemRahim1 نرجو منك تزويدنا ببياناتك عبر الخ...</td>\n",
       "      <td>AhwalCare</td>\n",
       "      <td>20</td>\n",
       "      <td>2021-09-27</td>\n",
       "    </tr>\n",
       "    <tr>\n",
       "      <th>2</th>\n",
       "      <td>1442578817395183620</td>\n",
       "      <td>@i_Mrmreta نأمل منك حجز موعد لتجديد سجل الاسرة...</td>\n",
       "      <td>AhwalCare</td>\n",
       "      <td>19</td>\n",
       "      <td>2021-09-27</td>\n",
       "    </tr>\n",
       "    <tr>\n",
       "      <th>3</th>\n",
       "      <td>1442578548116660225</td>\n",
       "      <td>@2022_sf يمكنك حجز موعد فوراً، نسعد بخدمتك</td>\n",
       "      <td>AhwalCare</td>\n",
       "      <td>19</td>\n",
       "      <td>2021-09-27</td>\n",
       "    </tr>\n",
       "    <tr>\n",
       "      <th>4</th>\n",
       "      <td>1442578459390320646</td>\n",
       "      <td>@cheeevo77 نأمل منك التقديم بطلب وثيقة بدل فاق...</td>\n",
       "      <td>AhwalCare</td>\n",
       "      <td>19</td>\n",
       "      <td>2021-09-27</td>\n",
       "    </tr>\n",
       "    <tr>\n",
       "      <th>...</th>\n",
       "      <td>...</td>\n",
       "      <td>...</td>\n",
       "      <td>...</td>\n",
       "      <td>...</td>\n",
       "      <td>...</td>\n",
       "    </tr>\n",
       "    <tr>\n",
       "      <th>8286</th>\n",
       "      <td>1432932392638066688</td>\n",
       "      <td>@mona_vip2017 @AhwalKSA لا يمكن ، نسعد بخدمتك</td>\n",
       "      <td>AhwalCare</td>\n",
       "      <td>5</td>\n",
       "      <td>2021-09-01</td>\n",
       "    </tr>\n",
       "    <tr>\n",
       "      <th>8287</th>\n",
       "      <td>1432932323075543040</td>\n",
       "      <td>@NHB141 نعم ، نسعد بخدمتك</td>\n",
       "      <td>AhwalCare</td>\n",
       "      <td>5</td>\n",
       "      <td>2021-09-01</td>\n",
       "    </tr>\n",
       "    <tr>\n",
       "      <th>8288</th>\n",
       "      <td>1432932267379281924</td>\n",
       "      <td>@mattar1234 وعليكم السلام ، نرجو منك تزويدنا ب...</td>\n",
       "      <td>AhwalCare</td>\n",
       "      <td>5</td>\n",
       "      <td>2021-09-01</td>\n",
       "    </tr>\n",
       "    <tr>\n",
       "      <th>8289</th>\n",
       "      <td>1432931890617622534</td>\n",
       "      <td>@DABNLkejXTQNxKU @naj_az1984 سيتم التواصل معك ...</td>\n",
       "      <td>AhwalCare</td>\n",
       "      <td>5</td>\n",
       "      <td>2021-09-01</td>\n",
       "    </tr>\n",
       "    <tr>\n",
       "      <th>8290</th>\n",
       "      <td>1432931704675647490</td>\n",
       "      <td>@daym_21 نأمل منك مراجعة أقرب مكتب للأحوال الم...</td>\n",
       "      <td>AhwalCare</td>\n",
       "      <td>5</td>\n",
       "      <td>2021-09-01</td>\n",
       "    </tr>\n",
       "  </tbody>\n",
       "</table>\n",
       "<p>8291 rows × 5 columns</p>\n",
       "</div>"
      ],
      "text/plain": [
       "                 Tweet Id                                               Text  \\\n",
       "0     1442580908863860740  @Ibrrahim_9 نأمل منك تغيير المتصفح او جهاز الك...   \n",
       "1     1442580817927045122  @SalemRahim1 نرجو منك تزويدنا ببياناتك عبر الخ...   \n",
       "2     1442578817395183620  @i_Mrmreta نأمل منك حجز موعد لتجديد سجل الاسرة...   \n",
       "3     1442578548116660225         @2022_sf يمكنك حجز موعد فوراً، نسعد بخدمتك   \n",
       "4     1442578459390320646  @cheeevo77 نأمل منك التقديم بطلب وثيقة بدل فاق...   \n",
       "...                   ...                                                ...   \n",
       "8286  1432932392638066688      @mona_vip2017 @AhwalKSA لا يمكن ، نسعد بخدمتك   \n",
       "8287  1432932323075543040                          @NHB141 نعم ، نسعد بخدمتك   \n",
       "8288  1432932267379281924  @mattar1234 وعليكم السلام ، نرجو منك تزويدنا ب...   \n",
       "8289  1432931890617622534  @DABNLkejXTQNxKU @naj_az1984 سيتم التواصل معك ...   \n",
       "8290  1432931704675647490  @daym_21 نأمل منك مراجعة أقرب مكتب للأحوال الم...   \n",
       "\n",
       "       Username  time        date  \n",
       "0     AhwalCare    20  2021-09-27  \n",
       "1     AhwalCare    20  2021-09-27  \n",
       "2     AhwalCare    19  2021-09-27  \n",
       "3     AhwalCare    19  2021-09-27  \n",
       "4     AhwalCare    19  2021-09-27  \n",
       "...         ...   ...         ...  \n",
       "8286  AhwalCare     5  2021-09-01  \n",
       "8287  AhwalCare     5  2021-09-01  \n",
       "8288  AhwalCare     5  2021-09-01  \n",
       "8289  AhwalCare     5  2021-09-01  \n",
       "8290  AhwalCare     5  2021-09-01  \n",
       "\n",
       "[8291 rows x 5 columns]"
      ]
     },
     "execution_count": 9,
     "metadata": {},
     "output_type": "execute_result"
    }
   ],
   "source": [
    "from_ahwal"
   ]
  },
  {
   "cell_type": "code",
   "execution_count": 10,
   "id": "33de0ad1",
   "metadata": {},
   "outputs": [
    {
     "data": {
      "text/plain": [
       "8     860\n",
       "10    826\n",
       "7     733\n",
       "12    721\n",
       "11    663\n",
       "9     592\n",
       "14    518\n",
       "13    498\n",
       "18    485\n",
       "16    444\n",
       "17    436\n",
       "6     387\n",
       "15    361\n",
       "19    344\n",
       "5     268\n",
       "20     84\n",
       "4      33\n",
       "3      22\n",
       "21     10\n",
       "22      6\n",
       "Name: time, dtype: int64"
      ]
     },
     "execution_count": 10,
     "metadata": {},
     "output_type": "execute_result"
    }
   ],
   "source": [
    "from_ahwal['time'].value_counts()"
   ]
  },
  {
   "cell_type": "code",
   "execution_count": 11,
   "id": "84713dab",
   "metadata": {},
   "outputs": [
    {
     "data": {
      "text/plain": [
       "307.0740740740741"
      ]
     },
     "execution_count": 11,
     "metadata": {},
     "output_type": "execute_result"
    }
   ],
   "source": [
    "from_ahwal['date'].value_counts().mean()"
   ]
  },
  {
   "cell_type": "code",
   "execution_count": 12,
   "id": "f561d2c6",
   "metadata": {},
   "outputs": [
    {
     "data": {
      "text/plain": [
       "2021-09-05    452\n",
       "2021-09-06    437\n",
       "2021-09-01    404\n",
       "2021-09-19    403\n",
       "2021-09-13    393\n",
       "2021-09-14    393\n",
       "2021-09-12    392\n",
       "2021-09-08    380\n",
       "2021-09-21    377\n",
       "2021-09-27    374\n",
       "2021-09-20    373\n",
       "2021-09-04    352\n",
       "2021-09-15    351\n",
       "2021-09-07    350\n",
       "2021-09-26    346\n",
       "2021-09-09    307\n",
       "2021-09-16    306\n",
       "2021-09-02    294\n",
       "2021-09-22    270\n",
       "2021-09-18    226\n",
       "2021-09-11    224\n",
       "2021-09-17    173\n",
       "2021-09-03    165\n",
       "2021-09-10    163\n",
       "2021-09-25    140\n",
       "2021-09-23    129\n",
       "2021-09-24    117\n",
       "Name: date, dtype: int64"
      ]
     },
     "execution_count": 12,
     "metadata": {},
     "output_type": "execute_result"
    }
   ],
   "source": [
    "from_ahwal['date'].value_counts()"
   ]
  },
  {
   "cell_type": "code",
   "execution_count": 13,
   "id": "6f9b6a87",
   "metadata": {},
   "outputs": [
    {
     "data": {
      "text/plain": [
       "8291"
      ]
     },
     "execution_count": 13,
     "metadata": {},
     "output_type": "execute_result"
    }
   ],
   "source": [
    "len(from_ahwal)"
   ]
  }
 ],
 "metadata": {
  "kernelspec": {
   "display_name": "Python 3",
   "language": "python",
   "name": "python3"
  },
  "language_info": {
   "codemirror_mode": {
    "name": "ipython",
    "version": 3
   },
   "file_extension": ".py",
   "mimetype": "text/x-python",
   "name": "python",
   "nbconvert_exporter": "python",
   "pygments_lexer": "ipython3",
   "version": "3.9.6"
  }
 },
 "nbformat": 4,
 "nbformat_minor": 5
}
