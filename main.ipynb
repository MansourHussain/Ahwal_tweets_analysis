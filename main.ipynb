{
 "cells": [
  {
   "cell_type": "code",
   "execution_count": 1,
   "id": "32d1b032",
   "metadata": {},
   "outputs": [],
   "source": [
    "import numpy as np\n",
    "import pandas as pd\n",
    "to_ahwal = pd.read_csv('toAhwal.csv', index_col=0)"
   ]
  },
  {
   "cell_type": "code",
   "execution_count": 2,
   "id": "d9d95e3d",
   "metadata": {
    "scrolled": true
   },
   "outputs": [
    {
     "data": {
      "text/html": [
       "<div>\n",
       "<style scoped>\n",
       "    .dataframe tbody tr th:only-of-type {\n",
       "        vertical-align: middle;\n",
       "    }\n",
       "\n",
       "    .dataframe tbody tr th {\n",
       "        vertical-align: top;\n",
       "    }\n",
       "\n",
       "    .dataframe thead th {\n",
       "        text-align: right;\n",
       "    }\n",
       "</style>\n",
       "<table border=\"1\" class=\"dataframe\">\n",
       "  <thead>\n",
       "    <tr style=\"text-align: right;\">\n",
       "      <th></th>\n",
       "      <th>Tweet Id</th>\n",
       "      <th>Text</th>\n",
       "      <th>time</th>\n",
       "      <th>date</th>\n",
       "    </tr>\n",
       "  </thead>\n",
       "  <tbody>\n",
       "    <tr>\n",
       "      <th>0</th>\n",
       "      <td>1442630539475922949</td>\n",
       "      <td>أقدر أغير الصورة الشخصية للهوية اذا لسه باقي...</td>\n",
       "      <td>23</td>\n",
       "      <td>2021-09-27</td>\n",
       "    </tr>\n",
       "    <tr>\n",
       "      <th>1</th>\n",
       "      <td>1442625037312438277</td>\n",
       "      <td>،  عندي الوالد كبير بالسن وحاولت اسجله ببرن...</td>\n",
       "      <td>22</td>\n",
       "      <td>2021-09-27</td>\n",
       "    </tr>\n",
       "    <tr>\n",
       "      <th>2</th>\n",
       "      <td>1442614988598747137</td>\n",
       "      <td>سويت كل الخطوات برفق اخر مؤ دراسي بس مو راضي...</td>\n",
       "      <td>22</td>\n",
       "      <td>2021-09-27</td>\n",
       "    </tr>\n",
       "    <tr>\n",
       "      <th>3</th>\n",
       "      <td>1442614333272432641</td>\n",
       "      <td>الغريب   المدنية بالرياض وبعض مكاتبها بأنها ل...</td>\n",
       "      <td>22</td>\n",
       "      <td>2021-09-27</td>\n",
       "    </tr>\n",
       "    <tr>\n",
       "      <th>4</th>\n",
       "      <td>1442613483686612995</td>\n",
       "      <td>\\n فعلاً ه غرامه ع التأخر  تجديد الهويه الوطنيه</td>\n",
       "      <td>22</td>\n",
       "      <td>2021-09-27</td>\n",
       "    </tr>\n",
       "  </tbody>\n",
       "</table>\n",
       "</div>"
      ],
      "text/plain": [
       "              Tweet Id                                               Text  \\\n",
       "0  1442630539475922949    أقدر أغير الصورة الشخصية للهوية اذا لسه باقي...   \n",
       "1  1442625037312438277     ،  عندي الوالد كبير بالسن وحاولت اسجله ببرن...   \n",
       "2  1442614988598747137    سويت كل الخطوات برفق اخر مؤ دراسي بس مو راضي...   \n",
       "3  1442614333272432641   الغريب   المدنية بالرياض وبعض مكاتبها بأنها ل...   \n",
       "4  1442613483686612995   \\n فعلاً ه غرامه ع التأخر  تجديد الهويه الوطنيه    \n",
       "\n",
       "   time        date  \n",
       "0    23  2021-09-27  \n",
       "1    22  2021-09-27  \n",
       "2    22  2021-09-27  \n",
       "3    22  2021-09-27  \n",
       "4    22  2021-09-27  "
      ]
     },
     "execution_count": 2,
     "metadata": {},
     "output_type": "execute_result"
    }
   ],
   "source": [
    "to_ahwal.head()"
   ]
  },
  {
   "cell_type": "markdown",
   "id": "adad0db5",
   "metadata": {},
   "source": [
    "### Questions:\n",
    "* 1 - which period have most activity from costumers?\n",
    "* 2 - which period have most activity tweets daily? or weekly?\n",
    "* 3 - which most words repeated last months from account?\n",
    "* 4 - which most words repeated last months from costumers?\n",
    "* 5 - percentage of words from all costumers tweets?\n",
    "* 6 - Avg of tweets daily?\n",
    "* 7 - most days of tweets?\n"
   ]
  },
  {
   "cell_type": "markdown",
   "id": "3a975c92",
   "metadata": {},
   "source": [
    "## Start Analyzing"
   ]
  },
  {
   "cell_type": "markdown",
   "id": "f01b68f9",
   "metadata": {},
   "source": [
    "* 1 - which period have most activity from costumers?"
   ]
  },
  {
   "cell_type": "code",
   "execution_count": 89,
   "id": "0bb23a22",
   "metadata": {},
   "outputs": [
    {
     "data": {
      "text/plain": [
       "10    576\n",
       "11    566\n",
       "12    556\n",
       "16    541\n",
       "13    535\n",
       "9     519\n",
       "14    498\n",
       "8     492\n",
       "17    469\n",
       "18    427\n",
       "15    426\n",
       "7     401\n",
       "19    388\n",
       "6     327\n",
       "20    311\n",
       "21    289\n",
       "5     260\n",
       "22    236\n",
       "23    171\n",
       "4     162\n",
       "1     158\n",
       "2     146\n",
       "0     128\n",
       "3     124\n",
       "Name: time, dtype: int64"
      ]
     },
     "execution_count": 89,
     "metadata": {},
     "output_type": "execute_result"
    }
   ],
   "source": [
    "#most tweets per time in day\n",
    "tweets_per_time = to_ahwal['time'].value_counts()\n",
    "tweets_per_time"
   ]
  },
  {
   "cell_type": "markdown",
   "id": "6380fd75",
   "metadata": {},
   "source": [
    " 4 - which most words repeated last months from costumers?"
   ]
  },
  {
   "cell_type": "code",
   "execution_count": 4,
   "id": "991d0e8b",
   "metadata": {},
   "outputs": [
    {
     "name": "stdout",
     "output_type": "stream",
     "text": [
      "(عن, طريق, ابشر)            102\n",
      "(تجديد, الهوية, الوطنية)     73\n",
      "(موعد, بدل, فاقد)            41\n",
      "(اطلع, بدل, فاقد)            37\n",
      "(الخدمه, غير, متوفره)        29\n",
      "                           ... \n",
      "(خاص, ولا, زلت)               1\n",
      "(قطاع, خاص, ولا)              1\n",
      "(انا, موظف, قطاع)             1\n",
      "(اراسلكم, انا, موظف)          1\n",
      "(يتم, قبول, ذلك)              1\n",
      "Length: 89778, dtype: int64\n"
     ]
    }
   ],
   "source": [
    "#most words\n",
    "from nltk import ngrams\n",
    "vals = [y for x in to_ahwal['Text'] for y in str(x).split()]\n",
    "\n",
    "n = [3]\n",
    "a = pd.Series([y for x in n for y in ngrams(vals, x)]).value_counts()\n",
    "print(a)"
   ]
  },
  {
   "cell_type": "markdown",
   "id": "106479cf",
   "metadata": {},
   "source": [
    "6 - Avg of tweets daily?"
   ]
  },
  {
   "cell_type": "code",
   "execution_count": 5,
   "id": "3cd9e461",
   "metadata": {},
   "outputs": [
    {
     "data": {
      "text/plain": [
       "8706"
      ]
     },
     "execution_count": 5,
     "metadata": {},
     "output_type": "execute_result"
    }
   ],
   "source": [
    "len(to_ahwal)"
   ]
  },
  {
   "cell_type": "code",
   "execution_count": 6,
   "id": "554fdaf8",
   "metadata": {},
   "outputs": [
    {
     "data": {
      "text/plain": [
       "322.44444444444446"
      ]
     },
     "execution_count": 6,
     "metadata": {},
     "output_type": "execute_result"
    }
   ],
   "source": [
    "to_ahwal['date'].value_counts().mean()"
   ]
  },
  {
   "cell_type": "markdown",
   "id": "70a58ce0",
   "metadata": {},
   "source": [
    "* 7 - most days of tweets?"
   ]
  },
  {
   "cell_type": "code",
   "execution_count": 7,
   "id": "2a41a0d8",
   "metadata": {},
   "outputs": [
    {
     "data": {
      "text/plain": [
       "2021-09-14    481\n",
       "2021-09-06    453\n",
       "2021-09-27    451\n",
       "2021-09-05    450\n",
       "2021-09-01    422\n",
       "2021-09-19    421\n",
       "2021-09-21    384\n",
       "2021-09-13    384\n",
       "2021-09-12    383\n",
       "2021-09-26    376\n",
       "2021-09-07    373\n",
       "2021-09-08    372\n",
       "2021-09-20    361\n",
       "2021-09-15    347\n",
       "2021-09-04    345\n",
       "2021-09-09    326\n",
       "2021-09-02    319\n",
       "2021-09-16    307\n",
       "2021-09-22    282\n",
       "2021-09-17    233\n",
       "2021-09-18    228\n",
       "2021-09-11    205\n",
       "2021-09-03    197\n",
       "2021-09-25    196\n",
       "2021-09-10    170\n",
       "2021-09-23    125\n",
       "2021-09-24    115\n",
       "Name: date, dtype: int64"
      ]
     },
     "execution_count": 7,
     "metadata": {},
     "output_type": "execute_result"
    }
   ],
   "source": [
    "to_ahwal['date'].value_counts()"
   ]
  },
  {
   "cell_type": "code",
   "execution_count": null,
   "id": "e6a34087",
   "metadata": {},
   "outputs": [],
   "source": []
  },
  {
   "cell_type": "code",
   "execution_count": 8,
   "id": "437a5ef9",
   "metadata": {},
   "outputs": [
    {
     "name": "stdout",
     "output_type": "stream",
     "text": [
      "(موعد,)      983\n",
      "(و,)         800\n",
      "(ابشر,)      718\n",
      "(بطاقة,)     642\n",
      "(الهوية,)    623\n",
      "            ... \n",
      "(قلبل,)        1\n",
      "(@B82R1,)      1\n",
      "(@F__hf,)      1\n",
      "(يحني,)        1\n",
      "(لخوي,)        1\n",
      "Length: 15140, dtype: int64\n"
     ]
    }
   ],
   "source": [
    "#most words\n",
    "from nltk import ngrams\n",
    "vals = [y for x in to_ahwal['Text'] for y in str(x).split()]\n",
    "\n",
    "n = [1]\n",
    "a = pd.Series([y for x in n for y in ngrams(vals, x)]).value_counts()\n",
    "print(a)"
   ]
  },
  {
   "cell_type": "markdown",
   "id": "5bc4670a",
   "metadata": {},
   "source": [
    "5 - percentage of words from all costumers tweets?"
   ]
  },
  {
   "cell_type": "code",
   "execution_count": 82,
   "id": "bd35d64e",
   "metadata": {},
   "outputs": [
    {
     "data": {
      "text/html": [
       "<div>\n",
       "<style scoped>\n",
       "    .dataframe tbody tr th:only-of-type {\n",
       "        vertical-align: middle;\n",
       "    }\n",
       "\n",
       "    .dataframe tbody tr th {\n",
       "        vertical-align: top;\n",
       "    }\n",
       "\n",
       "    .dataframe thead th {\n",
       "        text-align: right;\n",
       "    }\n",
       "</style>\n",
       "<table border=\"1\" class=\"dataframe\">\n",
       "  <thead>\n",
       "    <tr style=\"text-align: right;\">\n",
       "      <th></th>\n",
       "      <th>words</th>\n",
       "      <th>counts</th>\n",
       "    </tr>\n",
       "  </thead>\n",
       "  <tbody>\n",
       "    <tr>\n",
       "      <th>0</th>\n",
       "      <td>موعد</td>\n",
       "      <td>983</td>\n",
       "    </tr>\n",
       "    <tr>\n",
       "      <th>1</th>\n",
       "      <td>ابشر</td>\n",
       "      <td>718</td>\n",
       "    </tr>\n",
       "    <tr>\n",
       "      <th>2</th>\n",
       "      <td>بطاقة</td>\n",
       "      <td>642</td>\n",
       "    </tr>\n",
       "    <tr>\n",
       "      <th>3</th>\n",
       "      <td>بدل فاقد</td>\n",
       "      <td>403</td>\n",
       "    </tr>\n",
       "    <tr>\n",
       "      <th>4</th>\n",
       "      <td>الهوية الوطنية</td>\n",
       "      <td>223</td>\n",
       "    </tr>\n",
       "    <tr>\n",
       "      <th>5</th>\n",
       "      <td>تجديد الهوية الوطنية</td>\n",
       "      <td>73</td>\n",
       "    </tr>\n",
       "    <tr>\n",
       "      <th>6</th>\n",
       "      <td>الهوية</td>\n",
       "      <td>623</td>\n",
       "    </tr>\n",
       "    <tr>\n",
       "      <th>7</th>\n",
       "      <td>تجديد</td>\n",
       "      <td>821</td>\n",
       "    </tr>\n",
       "    <tr>\n",
       "      <th>8</th>\n",
       "      <td>المهنة</td>\n",
       "      <td>168</td>\n",
       "    </tr>\n",
       "    <tr>\n",
       "      <th>9</th>\n",
       "      <td>المواليد</td>\n",
       "      <td>474</td>\n",
       "    </tr>\n",
       "    <tr>\n",
       "      <th>10</th>\n",
       "      <td>التعديل</td>\n",
       "      <td>525</td>\n",
       "    </tr>\n",
       "  </tbody>\n",
       "</table>\n",
       "</div>"
      ],
      "text/plain": [
       "                   words  counts\n",
       "0                   موعد     983\n",
       "1                   ابشر     718\n",
       "2                  بطاقة     642\n",
       "3               بدل فاقد     403\n",
       "4         الهوية الوطنية     223\n",
       "5   تجديد الهوية الوطنية      73\n",
       "6                 الهوية     623\n",
       "7                  تجديد     821\n",
       "8                 المهنة     168\n",
       "9               المواليد     474\n",
       "10               التعديل     525"
      ]
     },
     "execution_count": 82,
     "metadata": {},
     "output_type": "execute_result"
    }
   ],
   "source": [
    "words = {'words': ['موعد', 'ابشر','بطاقة','بدل فاقد','الهوية الوطنية','تجديد الهوية الوطنية','الهوية', 'تجديد','المهنة','المواليد','التعديل'], 'counts': [983, 718, 642, 403, 223, 73, 623, 821, 168, 474,525]}\n",
    "\n",
    "most_words = pd.DataFrame(data=words)\n",
    "most_words"
   ]
  },
  {
   "cell_type": "code",
   "execution_count": 88,
   "id": "d0ea8874",
   "metadata": {},
   "outputs": [
    {
     "data": {
      "text/plain": [
       "821"
      ]
     },
     "execution_count": 88,
     "metadata": {},
     "output_type": "execute_result"
    }
   ],
   "source": [
    "to_ahwal['Text'].str.contains('تجديد').value_counts()[True]"
   ]
  }
 ],
 "metadata": {
  "kernelspec": {
   "display_name": "Python 3",
   "language": "python",
   "name": "python3"
  },
  "language_info": {
   "codemirror_mode": {
    "name": "ipython",
    "version": 3
   },
   "file_extension": ".py",
   "mimetype": "text/x-python",
   "name": "python",
   "nbconvert_exporter": "python",
   "pygments_lexer": "ipython3",
   "version": "3.9.6"
  }
 },
 "nbformat": 4,
 "nbformat_minor": 5
}
